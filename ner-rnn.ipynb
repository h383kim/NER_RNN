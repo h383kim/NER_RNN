{
 "cells": [
  {
   "cell_type": "code",
   "execution_count": 1,
   "id": "1a69f9fd",
   "metadata": {
    "_cell_guid": "b1076dfc-b9ad-4769-8c92-a6c4dae69d19",
    "_uuid": "8f2839f25d086af736a60e9eeb907d3b93b6e0e5",
    "execution": {
     "iopub.execute_input": "2024-11-11T04:55:27.688886Z",
     "iopub.status.busy": "2024-11-11T04:55:27.688203Z",
     "iopub.status.idle": "2024-11-11T04:55:29.333258Z",
     "shell.execute_reply": "2024-11-11T04:55:29.332037Z"
    },
    "papermill": {
     "duration": 1.653479,
     "end_time": "2024-11-11T04:55:29.336153",
     "exception": false,
     "start_time": "2024-11-11T04:55:27.682674",
     "status": "completed"
    },
    "tags": []
   },
   "outputs": [],
   "source": [
    "import pandas as pd\n",
    "\n",
    "df = pd.read_csv('/kaggle/input/ner-dataset/NER_Dataset.csv')"
   ]
  },
  {
   "cell_type": "code",
   "execution_count": 2,
   "id": "0e756d22",
   "metadata": {
    "execution": {
     "iopub.execute_input": "2024-11-11T04:55:29.344438Z",
     "iopub.status.busy": "2024-11-11T04:55:29.344047Z",
     "iopub.status.idle": "2024-11-11T04:55:29.369035Z",
     "shell.execute_reply": "2024-11-11T04:55:29.367835Z"
    },
    "papermill": {
     "duration": 0.031918,
     "end_time": "2024-11-11T04:55:29.371557",
     "exception": false,
     "start_time": "2024-11-11T04:55:29.339639",
     "status": "completed"
    },
    "tags": []
   },
   "outputs": [
    {
     "data": {
      "text/html": [
       "<div>\n",
       "<style scoped>\n",
       "    .dataframe tbody tr th:only-of-type {\n",
       "        vertical-align: middle;\n",
       "    }\n",
       "\n",
       "    .dataframe tbody tr th {\n",
       "        vertical-align: top;\n",
       "    }\n",
       "\n",
       "    .dataframe thead th {\n",
       "        text-align: right;\n",
       "    }\n",
       "</style>\n",
       "<table border=\"1\" class=\"dataframe\">\n",
       "  <thead>\n",
       "    <tr style=\"text-align: right;\">\n",
       "      <th></th>\n",
       "      <th>Sentence_ID</th>\n",
       "      <th>Word</th>\n",
       "      <th>POS</th>\n",
       "      <th>Tag</th>\n",
       "    </tr>\n",
       "  </thead>\n",
       "  <tbody>\n",
       "    <tr>\n",
       "      <th>0</th>\n",
       "      <td>Sentence: 1</td>\n",
       "      <td>['Thousands', 'of', 'demonstrators', 'have', '...</td>\n",
       "      <td>['NNS', 'IN', 'NNS', 'VBP', 'VBN', 'IN', 'NNP'...</td>\n",
       "      <td>['O', 'O', 'O', 'O', 'O', 'O', 'B-geo', 'O', '...</td>\n",
       "    </tr>\n",
       "    <tr>\n",
       "      <th>1</th>\n",
       "      <td>Sentence: 10</td>\n",
       "      <td>['Iranian', 'officials', 'say', 'they', 'expec...</td>\n",
       "      <td>['JJ', 'NNS', 'VBP', 'PRP', 'VBP', 'TO', 'VB',...</td>\n",
       "      <td>['B-gpe', 'O', 'O', 'O', 'O', 'O', 'O', 'O', '...</td>\n",
       "    </tr>\n",
       "    <tr>\n",
       "      <th>2</th>\n",
       "      <td>Sentence: 100</td>\n",
       "      <td>['Helicopter', 'gunships', 'Saturday', 'pounde...</td>\n",
       "      <td>['NN', 'NNS', 'NNP', 'VBD', 'JJ', 'NNS', 'IN',...</td>\n",
       "      <td>['O', 'O', 'B-tim', 'O', 'O', 'O', 'O', 'O', '...</td>\n",
       "    </tr>\n",
       "    <tr>\n",
       "      <th>3</th>\n",
       "      <td>Sentence: 1000</td>\n",
       "      <td>['They', 'left', 'after', 'a', 'tense', 'hour-...</td>\n",
       "      <td>['PRP', 'VBD', 'IN', 'DT', 'NN', 'JJ', 'NN', '...</td>\n",
       "      <td>['O', 'O', 'O', 'O', 'O', 'O', 'O', 'O', 'O', ...</td>\n",
       "    </tr>\n",
       "    <tr>\n",
       "      <th>4</th>\n",
       "      <td>Sentence: 10000</td>\n",
       "      <td>['U.N.', 'relief', 'coordinator', 'Jan', 'Egel...</td>\n",
       "      <td>['NNP', 'NN', 'NN', 'NNP', 'NNP', 'VBD', 'NNP'...</td>\n",
       "      <td>['B-geo', 'O', 'O', 'B-per', 'I-per', 'O', 'B-...</td>\n",
       "    </tr>\n",
       "    <tr>\n",
       "      <th>...</th>\n",
       "      <td>...</td>\n",
       "      <td>...</td>\n",
       "      <td>...</td>\n",
       "      <td>...</td>\n",
       "    </tr>\n",
       "    <tr>\n",
       "      <th>47954</th>\n",
       "      <td>Sentence: 9995</td>\n",
       "      <td>['Opposition', 'leader', 'Mir', 'Hossein', 'Mo...</td>\n",
       "      <td>['NNP', 'NN', 'NNP', 'NNP', 'NNP', 'VBZ', 'VBN...</td>\n",
       "      <td>['O', 'O', 'O', 'B-per', 'I-per', 'O', 'O', 'O...</td>\n",
       "    </tr>\n",
       "    <tr>\n",
       "      <th>47955</th>\n",
       "      <td>Sentence: 9996</td>\n",
       "      <td>['On', 'Thursday', ',', 'Iranian', 'state', 'm...</td>\n",
       "      <td>['IN', 'NNP', ',', 'JJ', 'NN', 'NNS', 'VBN', '...</td>\n",
       "      <td>['O', 'B-tim', 'O', 'B-gpe', 'O', 'O', 'O', 'O...</td>\n",
       "    </tr>\n",
       "    <tr>\n",
       "      <th>47956</th>\n",
       "      <td>Sentence: 9997</td>\n",
       "      <td>['Following', 'Iran', \"'s\", 'disputed', 'June'...</td>\n",
       "      <td>['VBG', 'NNP', 'POS', 'JJ', 'NNP', 'CD', 'NNS'...</td>\n",
       "      <td>['O', 'B-geo', 'O', 'O', 'B-tim', 'I-tim', 'O'...</td>\n",
       "    </tr>\n",
       "    <tr>\n",
       "      <th>47957</th>\n",
       "      <td>Sentence: 9998</td>\n",
       "      <td>['Since', 'then', ',', 'authorities', 'have', ...</td>\n",
       "      <td>['IN', 'RB', ',', 'NNS', 'VBP', 'VBN', 'JJ', '...</td>\n",
       "      <td>['O', 'O', 'O', 'O', 'O', 'O', 'O', 'O', 'O', ...</td>\n",
       "    </tr>\n",
       "    <tr>\n",
       "      <th>47958</th>\n",
       "      <td>Sentence: 9999</td>\n",
       "      <td>['The', 'United', 'Nations', 'is', 'praising',...</td>\n",
       "      <td>['DT', 'NNP', 'NNP', 'VBZ', 'VBG', 'DT', 'NN',...</td>\n",
       "      <td>['O', 'B-org', 'I-org', 'O', 'O', 'O', 'O', 'O...</td>\n",
       "    </tr>\n",
       "  </tbody>\n",
       "</table>\n",
       "<p>47959 rows × 4 columns</p>\n",
       "</div>"
      ],
      "text/plain": [
       "           Sentence_ID                                               Word  \\\n",
       "0          Sentence: 1  ['Thousands', 'of', 'demonstrators', 'have', '...   \n",
       "1         Sentence: 10  ['Iranian', 'officials', 'say', 'they', 'expec...   \n",
       "2        Sentence: 100  ['Helicopter', 'gunships', 'Saturday', 'pounde...   \n",
       "3       Sentence: 1000  ['They', 'left', 'after', 'a', 'tense', 'hour-...   \n",
       "4      Sentence: 10000  ['U.N.', 'relief', 'coordinator', 'Jan', 'Egel...   \n",
       "...                ...                                                ...   \n",
       "47954   Sentence: 9995  ['Opposition', 'leader', 'Mir', 'Hossein', 'Mo...   \n",
       "47955   Sentence: 9996  ['On', 'Thursday', ',', 'Iranian', 'state', 'm...   \n",
       "47956   Sentence: 9997  ['Following', 'Iran', \"'s\", 'disputed', 'June'...   \n",
       "47957   Sentence: 9998  ['Since', 'then', ',', 'authorities', 'have', ...   \n",
       "47958   Sentence: 9999  ['The', 'United', 'Nations', 'is', 'praising',...   \n",
       "\n",
       "                                                     POS  \\\n",
       "0      ['NNS', 'IN', 'NNS', 'VBP', 'VBN', 'IN', 'NNP'...   \n",
       "1      ['JJ', 'NNS', 'VBP', 'PRP', 'VBP', 'TO', 'VB',...   \n",
       "2      ['NN', 'NNS', 'NNP', 'VBD', 'JJ', 'NNS', 'IN',...   \n",
       "3      ['PRP', 'VBD', 'IN', 'DT', 'NN', 'JJ', 'NN', '...   \n",
       "4      ['NNP', 'NN', 'NN', 'NNP', 'NNP', 'VBD', 'NNP'...   \n",
       "...                                                  ...   \n",
       "47954  ['NNP', 'NN', 'NNP', 'NNP', 'NNP', 'VBZ', 'VBN...   \n",
       "47955  ['IN', 'NNP', ',', 'JJ', 'NN', 'NNS', 'VBN', '...   \n",
       "47956  ['VBG', 'NNP', 'POS', 'JJ', 'NNP', 'CD', 'NNS'...   \n",
       "47957  ['IN', 'RB', ',', 'NNS', 'VBP', 'VBN', 'JJ', '...   \n",
       "47958  ['DT', 'NNP', 'NNP', 'VBZ', 'VBG', 'DT', 'NN',...   \n",
       "\n",
       "                                                     Tag  \n",
       "0      ['O', 'O', 'O', 'O', 'O', 'O', 'B-geo', 'O', '...  \n",
       "1      ['B-gpe', 'O', 'O', 'O', 'O', 'O', 'O', 'O', '...  \n",
       "2      ['O', 'O', 'B-tim', 'O', 'O', 'O', 'O', 'O', '...  \n",
       "3      ['O', 'O', 'O', 'O', 'O', 'O', 'O', 'O', 'O', ...  \n",
       "4      ['B-geo', 'O', 'O', 'B-per', 'I-per', 'O', 'B-...  \n",
       "...                                                  ...  \n",
       "47954  ['O', 'O', 'O', 'B-per', 'I-per', 'O', 'O', 'O...  \n",
       "47955  ['O', 'B-tim', 'O', 'B-gpe', 'O', 'O', 'O', 'O...  \n",
       "47956  ['O', 'B-geo', 'O', 'O', 'B-tim', 'I-tim', 'O'...  \n",
       "47957  ['O', 'O', 'O', 'O', 'O', 'O', 'O', 'O', 'O', ...  \n",
       "47958  ['O', 'B-org', 'I-org', 'O', 'O', 'O', 'O', 'O...  \n",
       "\n",
       "[47959 rows x 4 columns]"
      ]
     },
     "execution_count": 2,
     "metadata": {},
     "output_type": "execute_result"
    }
   ],
   "source": [
    "df"
   ]
  },
  {
   "cell_type": "markdown",
   "id": "3e8c5bd9",
   "metadata": {
    "papermill": {
     "duration": 0.003286,
     "end_time": "2024-11-11T04:55:29.378517",
     "exception": false,
     "start_time": "2024-11-11T04:55:29.375231",
     "status": "completed"
    },
    "tags": []
   },
   "source": [
    "# EDA\n",
    "Investigate how many Tags are in the dataset"
   ]
  },
  {
   "cell_type": "code",
   "execution_count": 3,
   "id": "e2957cbd",
   "metadata": {
    "execution": {
     "iopub.execute_input": "2024-11-11T04:55:29.387229Z",
     "iopub.status.busy": "2024-11-11T04:55:29.386820Z",
     "iopub.status.idle": "2024-11-11T04:55:56.377061Z",
     "shell.execute_reply": "2024-11-11T04:55:56.375362Z"
    },
    "papermill": {
     "duration": 26.997564,
     "end_time": "2024-11-11T04:55:56.379562",
     "exception": false,
     "start_time": "2024-11-11T04:55:29.381998",
     "status": "completed"
    },
    "tags": []
   },
   "outputs": [
    {
     "data": {
      "text/plain": [
       "{'B-art',\n",
       " 'B-eve',\n",
       " 'B-geo',\n",
       " 'B-gpe',\n",
       " 'B-nat',\n",
       " 'B-org',\n",
       " 'B-per',\n",
       " 'B-tim',\n",
       " 'I-art',\n",
       " 'I-eve',\n",
       " 'I-geo',\n",
       " 'I-gpe',\n",
       " 'I-nat',\n",
       " 'I-org',\n",
       " 'I-per',\n",
       " 'I-tim',\n",
       " 'O'}"
      ]
     },
     "execution_count": 3,
     "metadata": {},
     "output_type": "execute_result"
    }
   ],
   "source": [
    "import ast \n",
    "\n",
    "# Current data has list form read in literal. Change this to list form\n",
    "for i, row in df.iterrows():\n",
    "    df.loc[i, 'Word'] = ast.literal_eval(df.loc[i, 'Word'])\n",
    "    df.loc[i, 'Tag'] = ast.literal_eval(df.loc[i, 'Tag'])\n",
    "\n",
    "unique_tags = set()\n",
    "\n",
    "def add_unique_tags(row):\n",
    "    taglist = row['Tag']\n",
    "    for tag in taglist:\n",
    "        # Add the tag only if not in the unique_tags set\n",
    "        if tag not in unique_tags:\n",
    "            unique_tags.add(tag)\n",
    "\n",
    "df.apply(add_unique_tags, axis=1)\n",
    "unique_tags"
   ]
  },
  {
   "cell_type": "code",
   "execution_count": 4,
   "id": "de8010af",
   "metadata": {
    "execution": {
     "iopub.execute_input": "2024-11-11T04:55:56.389238Z",
     "iopub.status.busy": "2024-11-11T04:55:56.388814Z",
     "iopub.status.idle": "2024-11-11T04:55:58.008529Z",
     "shell.execute_reply": "2024-11-11T04:55:58.007213Z"
    },
    "papermill": {
     "duration": 1.628446,
     "end_time": "2024-11-11T04:55:58.011866",
     "exception": false,
     "start_time": "2024-11-11T04:55:56.383420",
     "status": "completed"
    },
    "tags": []
   },
   "outputs": [],
   "source": [
    "import sklearn\n",
    "from sklearn.model_selection import train_test_split\n",
    "\n",
    "X_train, X_test, y_train, y_test = train_test_split(df['Word'], df['Tag'], test_size=0.2, random_state=42)"
   ]
  },
  {
   "cell_type": "code",
   "execution_count": 5,
   "id": "41442ed9",
   "metadata": {
    "execution": {
     "iopub.execute_input": "2024-11-11T04:55:58.021688Z",
     "iopub.status.busy": "2024-11-11T04:55:58.021111Z",
     "iopub.status.idle": "2024-11-11T04:55:58.032460Z",
     "shell.execute_reply": "2024-11-11T04:55:58.031155Z"
    },
    "papermill": {
     "duration": 0.019817,
     "end_time": "2024-11-11T04:55:58.035623",
     "exception": false,
     "start_time": "2024-11-11T04:55:58.015806",
     "status": "completed"
    },
    "tags": []
   },
   "outputs": [
    {
     "data": {
      "text/plain": [
       "['Thousands',\n",
       " 'of',\n",
       " 'demonstrators',\n",
       " 'have',\n",
       " 'marched',\n",
       " 'through',\n",
       " 'London',\n",
       " 'to',\n",
       " 'protest',\n",
       " 'the',\n",
       " 'war',\n",
       " 'in',\n",
       " 'Iraq',\n",
       " 'and',\n",
       " 'demand',\n",
       " 'the',\n",
       " 'withdrawal',\n",
       " 'of',\n",
       " 'British',\n",
       " 'troops',\n",
       " 'from',\n",
       " 'that',\n",
       " 'country',\n",
       " '.']"
      ]
     },
     "execution_count": 5,
     "metadata": {},
     "output_type": "execute_result"
    }
   ],
   "source": [
    "X_train[0]"
   ]
  }
 ],
 "metadata": {
  "kaggle": {
   "accelerator": "none",
   "dataSources": [
    {
     "datasetId": 902647,
     "sourceId": 1530946,
     "sourceType": "datasetVersion"
    }
   ],
   "dockerImageVersionId": 30786,
   "isGpuEnabled": false,
   "isInternetEnabled": true,
   "language": "python",
   "sourceType": "notebook"
  },
  "kernelspec": {
   "display_name": "Python 3",
   "language": "python",
   "name": "python3"
  },
  "language_info": {
   "codemirror_mode": {
    "name": "ipython",
    "version": 3
   },
   "file_extension": ".py",
   "mimetype": "text/x-python",
   "name": "python",
   "nbconvert_exporter": "python",
   "pygments_lexer": "ipython3",
   "version": "3.10.14"
  },
  "papermill": {
   "default_parameters": {},
   "duration": 34.264494,
   "end_time": "2024-11-11T04:55:58.763276",
   "environment_variables": {},
   "exception": null,
   "input_path": "__notebook__.ipynb",
   "output_path": "__notebook__.ipynb",
   "parameters": {},
   "start_time": "2024-11-11T04:55:24.498782",
   "version": "2.6.0"
  }
 },
 "nbformat": 4,
 "nbformat_minor": 5
}
